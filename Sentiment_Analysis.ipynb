{
 "cells": [
  {
   "cell_type": "code",
   "execution_count": 37,
   "metadata": {},
   "outputs": [],
   "source": [
    "import warnings\n",
    "warnings.filterwarnings('ignore')\n",
    "\n",
    "import pandas as pd\n",
    "import numpy as np\n",
    "import bs4\n",
    "\n",
    "from sklearn.feature_extraction.text import CountVectorizer, TfidfVectorizer\n",
    "from sklearn.linear_model import LogisticRegression\n",
    "from sklearn.svm import LinearSVC\n",
    "from sklearn.model_selection import GridSearchCV, cross_val_score\n",
    "from sklearn.pipeline import Pipeline"
   ]
  },
  {
   "cell_type": "markdown",
   "metadata": {},
   "source": [
    "## Задание: необходимо построить классификатор для определения тональности отзыва для https://www.kaggle.com/c/morecomplicatedsentiment/overview"
   ]
  },
  {
   "cell_type": "code",
   "execution_count": 38,
   "metadata": {},
   "outputs": [
    {
     "data": {
      "text/html": [
       "<div>\n",
       "<style scoped>\n",
       "    .dataframe tbody tr th:only-of-type {\n",
       "        vertical-align: middle;\n",
       "    }\n",
       "\n",
       "    .dataframe tbody tr th {\n",
       "        vertical-align: top;\n",
       "    }\n",
       "\n",
       "    .dataframe thead th {\n",
       "        text-align: right;\n",
       "    }\n",
       "</style>\n",
       "<table border=\"1\" class=\"dataframe\">\n",
       "  <thead>\n",
       "    <tr style=\"text-align: right;\">\n",
       "      <th></th>\n",
       "      <th>data</th>\n",
       "    </tr>\n",
       "  </thead>\n",
       "  <tbody>\n",
       "    <tr>\n",
       "      <th>0</th>\n",
       "      <td>Ужасно слабый аккумулятор, это основной минус ...</td>\n",
       "    </tr>\n",
       "    <tr>\n",
       "      <th>1</th>\n",
       "      <td>ценанадежность-неубиваемостьдолго держит батар...</td>\n",
       "    </tr>\n",
       "    <tr>\n",
       "      <th>2</th>\n",
       "      <td>подробнее в комментариях К сожалению, факт пол...</td>\n",
       "    </tr>\n",
       "    <tr>\n",
       "      <th>3</th>\n",
       "      <td>я любительница громкой музыки. Тише телефона у...</td>\n",
       "    </tr>\n",
       "    <tr>\n",
       "      <th>4</th>\n",
       "      <td>Дата выпуска - 2011 г, емкость - 1430 mAh, тех...</td>\n",
       "    </tr>\n",
       "  </tbody>\n",
       "</table>\n",
       "</div>"
      ],
      "text/plain": [
       "                                                data\n",
       "0  Ужасно слабый аккумулятор, это основной минус ...\n",
       "1  ценанадежность-неубиваемостьдолго держит батар...\n",
       "2  подробнее в комментариях К сожалению, факт пол...\n",
       "3  я любительница громкой музыки. Тише телефона у...\n",
       "4  Дата выпуска - 2011 г, емкость - 1430 mAh, тех..."
      ]
     },
     "execution_count": 38,
     "metadata": {},
     "output_type": "execute_result"
    }
   ],
   "source": [
    "# посмотрим на тестовые данные\n",
    "with open('test.csv', 'r', encoding='utf-8') as f:\n",
    "    reviews = f.read()\n",
    "    \n",
    "# выделим текст между тегами review и избавимся от '\\n' в тексте\n",
    "texts = bs4.BeautifulSoup(reviews, 'lxml').find_all('review')\n",
    "texts = [item.text.replace(\"\\n\", \" \").strip() for item in texts]\n",
    "# преобразуем в pandas.DataFrame\n",
    "test = pd.DataFrame(texts, columns=['data'])\n",
    "test.head()"
   ]
  },
  {
   "cell_type": "markdown",
   "metadata": {},
   "source": [
    "Судя по тестовой выборке, мы тестируем отзывы на телефоны, поэтому я собрал тренировочную выборку с сайта https://otziv-otziv.ru/katalog/mobilnye-telefony/. Для парсинга запускаем скрипт parse_otziv.py, который создает следующая ячека:"
   ]
  },
  {
   "cell_type": "code",
   "execution_count": 39,
   "metadata": {},
   "outputs": [
    {
     "name": "stdout",
     "output_type": "stream",
     "text": [
      "Writing parse_otziv.py\n"
     ]
    }
   ],
   "source": [
    "%%writefile parse_otziv.py\n",
    "import requests\n",
    "import bs4\n",
    "import pandas as pd\n",
    "from multiprocessing import Pool\n",
    "from functools import reduce\n",
    "\n",
    "def parse_page(url):\n",
    "    parsed_data = []\n",
    "    try:\n",
    "        # парсим заданную страницу\n",
    "        req = requests.get(url)\n",
    "        print(str(url), req)\n",
    "        parser = bs4.BeautifulSoup(req.text, 'lxml')\n",
    "        # ищем ссылки на отдельные модели\n",
    "        divs_models = parser.findAll('div', attrs={'class':'content'})\n",
    "        refs = [div.find('a', href=True)['href'] for div in divs_models[:-1]]\n",
    "    \n",
    "        # парсим каждую страницу для отдельно взятой модели телефона\n",
    "        for ref in refs:\n",
    "            req2 = requests.get('https://otziv-otziv.ru' + ref)\n",
    "            parser2 = bs4.BeautifulSoup(req2.text, 'lxml')\n",
    "            # поиск тексты отзывов\n",
    "            divs_feedback = parser2.findAll('div', attrs={'class':'container-reviews collapsible collapsed'})\n",
    "            \n",
    "            # для каждого отзыва ищем комментарий и рейтинг\n",
    "            for feedback in divs_feedback:\n",
    "                # из всего отзыва берем только текст после слова 'Комментарий:', если он есть\n",
    "                comment_ind = feedback.text.find('Комментарий:')\n",
    "                if comment_ind == -1:\n",
    "                    continue          # комментария нет\n",
    "                else:\n",
    "                    comment = feedback.text[comment_ind+12:].replace('\\n', ' ').strip()\n",
    "                    rating = int(feedback.find('div', attrs={'class':'stars-container'}).attrs['title'][-1])\n",
    "                    parsed_data.append((comment, rating))\n",
    "    except requests.exceptions.ConnectionError:\n",
    "        print('ConnectionError to URL ' + url)\n",
    "        parsed_data.append(('отстойный телефон', 1))\n",
    "        \n",
    "    return parsed_data\n",
    "                    \n",
    "                    \n",
    "if __name__ == '__main__':\n",
    "    p = Pool(10)\n",
    "    url_list = ['https://otziv-otziv.ru/katalog/mobilnye-telefony/?page=' + str(n) for n in range(1, 709)]\n",
    "    map_results = list(p.map(parse_page, url_list))\n",
    "    reduce_results = reduce(lambda x,y: x + y, map_results)\n",
    "    train_raw = pd.DataFrame(reduce_results, columns=['data', 'rating'])\n",
    "    train_raw[['data','rating']].to_csv('train_raw.csv', index = False)"
   ]
  },
  {
   "cell_type": "code",
   "execution_count": 40,
   "metadata": {},
   "outputs": [
    {
     "data": {
      "text/html": [
       "<div>\n",
       "<style scoped>\n",
       "    .dataframe tbody tr th:only-of-type {\n",
       "        vertical-align: middle;\n",
       "    }\n",
       "\n",
       "    .dataframe tbody tr th {\n",
       "        vertical-align: top;\n",
       "    }\n",
       "\n",
       "    .dataframe thead th {\n",
       "        text-align: right;\n",
       "    }\n",
       "</style>\n",
       "<table border=\"1\" class=\"dataframe\">\n",
       "  <thead>\n",
       "    <tr style=\"text-align: right;\">\n",
       "      <th></th>\n",
       "      <th>data</th>\n",
       "      <th>rating</th>\n",
       "    </tr>\n",
       "  </thead>\n",
       "  <tbody>\n",
       "    <tr>\n",
       "      <th>0</th>\n",
       "      <td>Телефон норм.</td>\n",
       "      <td>4</td>\n",
       "    </tr>\n",
       "    <tr>\n",
       "      <th>1</th>\n",
       "      <td>Вобщем телефон отличный и долговечный , недост...</td>\n",
       "      <td>5</td>\n",
       "    </tr>\n",
       "    <tr>\n",
       "      <th>2</th>\n",
       "      <td>у меня был sony ericsson xperia x8 и теперь no...</td>\n",
       "      <td>5</td>\n",
       "    </tr>\n",
       "    <tr>\n",
       "      <th>3</th>\n",
       "      <td>Пользуюсь третий год, купил на замену нокии 62...</td>\n",
       "      <td>3</td>\n",
       "    </tr>\n",
       "    <tr>\n",
       "      <th>4</th>\n",
       "      <td>пока альтернатив как простому телефону с хорош...</td>\n",
       "      <td>5</td>\n",
       "    </tr>\n",
       "    <tr>\n",
       "      <th>...</th>\n",
       "      <td>...</td>\n",
       "      <td>...</td>\n",
       "    </tr>\n",
       "    <tr>\n",
       "      <th>188296</th>\n",
       "      <td>Смартфон для требовательных игр наверное слабо...</td>\n",
       "      <td>4</td>\n",
       "    </tr>\n",
       "    <tr>\n",
       "      <th>188297</th>\n",
       "      <td>Заказывал на известном китайском сайте. Особых...</td>\n",
       "      <td>4</td>\n",
       "    </tr>\n",
       "    <tr>\n",
       "      <th>188298</th>\n",
       "      <td>Заказал из Китая за 7200р, т.к. у нас этой мод...</td>\n",
       "      <td>4</td>\n",
       "    </tr>\n",
       "    <tr>\n",
       "      <th>188299</th>\n",
       "      <td>Не посоветовал бы никому. Есть второй телефон,...</td>\n",
       "      <td>3</td>\n",
       "    </tr>\n",
       "    <tr>\n",
       "      <th>188300</th>\n",
       "      <td>При небольшом наклоне экран инвертирует цвета,...</td>\n",
       "      <td>5</td>\n",
       "    </tr>\n",
       "  </tbody>\n",
       "</table>\n",
       "<p>188301 rows × 2 columns</p>\n",
       "</div>"
      ],
      "text/plain": [
       "                                                     data  rating\n",
       "0                                           Телефон норм.       4\n",
       "1       Вобщем телефон отличный и долговечный , недост...       5\n",
       "2       у меня был sony ericsson xperia x8 и теперь no...       5\n",
       "3       Пользуюсь третий год, купил на замену нокии 62...       3\n",
       "4       пока альтернатив как простому телефону с хорош...       5\n",
       "...                                                   ...     ...\n",
       "188296  Смартфон для требовательных игр наверное слабо...       4\n",
       "188297  Заказывал на известном китайском сайте. Особых...       4\n",
       "188298  Заказал из Китая за 7200р, т.к. у нас этой мод...       4\n",
       "188299  Не посоветовал бы никому. Есть второй телефон,...       3\n",
       "188300  При небольшом наклоне экран инвертирует цвета,...       5\n",
       "\n",
       "[188301 rows x 2 columns]"
      ]
     },
     "execution_count": 40,
     "metadata": {},
     "output_type": "execute_result"
    }
   ],
   "source": [
    "# на выходе получаем файл 'train_raw.csv'. Посмотрим на данные:\n",
    "train_raw = pd.read_csv('train_raw.csv')\n",
    "train_raw"
   ]
  },
  {
   "cell_type": "code",
   "execution_count": 41,
   "metadata": {},
   "outputs": [
    {
     "data": {
      "text/html": [
       "<div>\n",
       "<style scoped>\n",
       "    .dataframe tbody tr th:only-of-type {\n",
       "        vertical-align: middle;\n",
       "    }\n",
       "\n",
       "    .dataframe tbody tr th {\n",
       "        vertical-align: top;\n",
       "    }\n",
       "\n",
       "    .dataframe thead th {\n",
       "        text-align: right;\n",
       "    }\n",
       "</style>\n",
       "<table border=\"1\" class=\"dataframe\">\n",
       "  <thead>\n",
       "    <tr style=\"text-align: right;\">\n",
       "      <th></th>\n",
       "      <th>data</th>\n",
       "      <th>rating</th>\n",
       "      <th>label</th>\n",
       "    </tr>\n",
       "  </thead>\n",
       "  <tbody>\n",
       "    <tr>\n",
       "      <th>0</th>\n",
       "      <td>Телефон норм.</td>\n",
       "      <td>4</td>\n",
       "      <td>1</td>\n",
       "    </tr>\n",
       "    <tr>\n",
       "      <th>1</th>\n",
       "      <td>Вобщем телефон отличный и долговечный , недост...</td>\n",
       "      <td>5</td>\n",
       "      <td>1</td>\n",
       "    </tr>\n",
       "    <tr>\n",
       "      <th>2</th>\n",
       "      <td>у меня был sony ericsson xperia x8 и теперь no...</td>\n",
       "      <td>5</td>\n",
       "      <td>1</td>\n",
       "    </tr>\n",
       "    <tr>\n",
       "      <th>3</th>\n",
       "      <td>Пользуюсь третий год, купил на замену нокии 62...</td>\n",
       "      <td>3</td>\n",
       "      <td>0</td>\n",
       "    </tr>\n",
       "    <tr>\n",
       "      <th>4</th>\n",
       "      <td>пока альтернатив как простому телефону с хорош...</td>\n",
       "      <td>5</td>\n",
       "      <td>1</td>\n",
       "    </tr>\n",
       "    <tr>\n",
       "      <th>...</th>\n",
       "      <td>...</td>\n",
       "      <td>...</td>\n",
       "      <td>...</td>\n",
       "    </tr>\n",
       "    <tr>\n",
       "      <th>188296</th>\n",
       "      <td>Смартфон для требовательных игр наверное слабо...</td>\n",
       "      <td>4</td>\n",
       "      <td>1</td>\n",
       "    </tr>\n",
       "    <tr>\n",
       "      <th>188297</th>\n",
       "      <td>Заказывал на известном китайском сайте. Особых...</td>\n",
       "      <td>4</td>\n",
       "      <td>1</td>\n",
       "    </tr>\n",
       "    <tr>\n",
       "      <th>188298</th>\n",
       "      <td>Заказал из Китая за 7200р, т.к. у нас этой мод...</td>\n",
       "      <td>4</td>\n",
       "      <td>1</td>\n",
       "    </tr>\n",
       "    <tr>\n",
       "      <th>188299</th>\n",
       "      <td>Не посоветовал бы никому. Есть второй телефон,...</td>\n",
       "      <td>3</td>\n",
       "      <td>0</td>\n",
       "    </tr>\n",
       "    <tr>\n",
       "      <th>188300</th>\n",
       "      <td>При небольшом наклоне экран инвертирует цвета,...</td>\n",
       "      <td>5</td>\n",
       "      <td>1</td>\n",
       "    </tr>\n",
       "  </tbody>\n",
       "</table>\n",
       "<p>188295 rows × 3 columns</p>\n",
       "</div>"
      ],
      "text/plain": [
       "                                                     data  rating  label\n",
       "0                                           Телефон норм.       4      1\n",
       "1       Вобщем телефон отличный и долговечный , недост...       5      1\n",
       "2       у меня был sony ericsson xperia x8 и теперь no...       5      1\n",
       "3       Пользуюсь третий год, купил на замену нокии 62...       3      0\n",
       "4       пока альтернатив как простому телефону с хорош...       5      1\n",
       "...                                                   ...     ...    ...\n",
       "188296  Смартфон для требовательных игр наверное слабо...       4      1\n",
       "188297  Заказывал на известном китайском сайте. Особых...       4      1\n",
       "188298  Заказал из Китая за 7200р, т.к. у нас этой мод...       4      1\n",
       "188299  Не посоветовал бы никому. Есть второй телефон,...       3      0\n",
       "188300  При небольшом наклоне экран инвертирует цвета,...       5      1\n",
       "\n",
       "[188295 rows x 3 columns]"
      ]
     },
     "execution_count": 41,
     "metadata": {},
     "output_type": "execute_result"
    }
   ],
   "source": [
    "# будем считать, что рейтинг 4-5 это положительный отзыв, а 1-3 отрицательный. Добавим колонку 'label':\n",
    "train_raw['label'] = np.where(train_raw['rating']>=4, 1, 0)\n",
    "# заодно отбросим NA занчения, если такие есть в таблице\n",
    "train_raw.dropna(inplace=True)\n",
    "train_raw"
   ]
  },
  {
   "cell_type": "code",
   "execution_count": 42,
   "metadata": {},
   "outputs": [
    {
     "data": {
      "text/plain": [
       "1    133245\n",
       "0     55050\n",
       "Name: label, dtype: int64"
      ]
     },
     "execution_count": 42,
     "metadata": {},
     "output_type": "execute_result"
    }
   ],
   "source": [
    "# посмотрим на соотношение классов\n",
    "train_raw['label'].value_counts()"
   ]
  },
  {
   "cell_type": "code",
   "execution_count": 43,
   "metadata": {},
   "outputs": [
    {
     "data": {
      "text/plain": [
       "1    55050\n",
       "0    55050\n",
       "Name: label, dtype: int64"
      ]
     },
     "execution_count": 43,
     "metadata": {},
     "output_type": "execute_result"
    }
   ],
   "source": [
    "# положительных отзывов значительно больше, чем отрицательных.\n",
    "# произведем балансировку классов\n",
    "from sklearn.utils import resample, shuffle\n",
    "\n",
    "train_majority = train_raw[train_raw.label==1]\n",
    "train_minority = train_raw[train_raw.label==0]\n",
    "# т.к. данных много, то просто возьмем 55050 случайных положительных значений\n",
    "train_majority_downsampled = resample(train_majority, \n",
    "                                      replace=False,\n",
    "                                      n_samples=55050)\n",
    " \n",
    "# объединим положительные и отрицательные значения и перемешаем\n",
    "train = shuffle(pd.concat([train_majority_downsampled, train_minority]))\n",
    "# проверим баланс\n",
    "train.label.value_counts()"
   ]
  },
  {
   "cell_type": "code",
   "execution_count": 44,
   "metadata": {},
   "outputs": [
    {
     "data": {
      "text/html": [
       "<div>\n",
       "<style scoped>\n",
       "    .dataframe tbody tr th:only-of-type {\n",
       "        vertical-align: middle;\n",
       "    }\n",
       "\n",
       "    .dataframe tbody tr th {\n",
       "        vertical-align: top;\n",
       "    }\n",
       "\n",
       "    .dataframe thead th {\n",
       "        text-align: right;\n",
       "    }\n",
       "</style>\n",
       "<table border=\"1\" class=\"dataframe\">\n",
       "  <thead>\n",
       "    <tr style=\"text-align: right;\">\n",
       "      <th></th>\n",
       "      <th>data</th>\n",
       "      <th>rating</th>\n",
       "      <th>label</th>\n",
       "    </tr>\n",
       "  </thead>\n",
       "  <tbody>\n",
       "    <tr>\n",
       "      <th>13658</th>\n",
       "      <td>Спустя 2 года пользования поменял свое мнение ...</td>\n",
       "      <td>3</td>\n",
       "      <td>0</td>\n",
       "    </tr>\n",
       "    <tr>\n",
       "      <th>19389</th>\n",
       "      <td>сдал его обратно только из-за дефекта в режиме...</td>\n",
       "      <td>4</td>\n",
       "      <td>1</td>\n",
       "    </tr>\n",
       "    <tr>\n",
       "      <th>32938</th>\n",
       "      <td>Кожаный флип хоть и защищает тлефон от царапин...</td>\n",
       "      <td>1</td>\n",
       "      <td>0</td>\n",
       "    </tr>\n",
       "    <tr>\n",
       "      <th>29615</th>\n",
       "      <td>Нет возможности установить разблокировку отпеч...</td>\n",
       "      <td>3</td>\n",
       "      <td>0</td>\n",
       "    </tr>\n",
       "    <tr>\n",
       "      <th>39142</th>\n",
       "      <td>Никаких наворотов нет: интернета, фотокамеры и...</td>\n",
       "      <td>5</td>\n",
       "      <td>1</td>\n",
       "    </tr>\n",
       "    <tr>\n",
       "      <th>...</th>\n",
       "      <td>...</td>\n",
       "      <td>...</td>\n",
       "      <td>...</td>\n",
       "    </tr>\n",
       "    <tr>\n",
       "      <th>11575</th>\n",
       "      <td>не могу сказать что тел совсем плохой ну если ...</td>\n",
       "      <td>3</td>\n",
       "      <td>0</td>\n",
       "    </tr>\n",
       "    <tr>\n",
       "      <th>65848</th>\n",
       "      <td>Купила неделю назад. Пару раз самопроизвольно ...</td>\n",
       "      <td>3</td>\n",
       "      <td>0</td>\n",
       "    </tr>\n",
       "    <tr>\n",
       "      <th>163320</th>\n",
       "      <td>Прибрел коммуникатор Keneksi Norma. Очень непл...</td>\n",
       "      <td>4</td>\n",
       "      <td>1</td>\n",
       "    </tr>\n",
       "    <tr>\n",
       "      <th>48118</th>\n",
       "      <td>Больше пока ничего не изучила.Полчаса открывал...</td>\n",
       "      <td>3</td>\n",
       "      <td>0</td>\n",
       "    </tr>\n",
       "    <tr>\n",
       "      <th>131224</th>\n",
       "      <td>Отличный телефон в плане пользования и связи!!...</td>\n",
       "      <td>5</td>\n",
       "      <td>1</td>\n",
       "    </tr>\n",
       "  </tbody>\n",
       "</table>\n",
       "<p>110100 rows × 3 columns</p>\n",
       "</div>"
      ],
      "text/plain": [
       "                                                     data  rating  label\n",
       "13658   Спустя 2 года пользования поменял свое мнение ...       3      0\n",
       "19389   сдал его обратно только из-за дефекта в режиме...       4      1\n",
       "32938   Кожаный флип хоть и защищает тлефон от царапин...       1      0\n",
       "29615   Нет возможности установить разблокировку отпеч...       3      0\n",
       "39142   Никаких наворотов нет: интернета, фотокамеры и...       5      1\n",
       "...                                                   ...     ...    ...\n",
       "11575   не могу сказать что тел совсем плохой ну если ...       3      0\n",
       "65848   Купила неделю назад. Пару раз самопроизвольно ...       3      0\n",
       "163320  Прибрел коммуникатор Keneksi Norma. Очень непл...       4      1\n",
       "48118   Больше пока ничего не изучила.Полчаса открывал...       3      0\n",
       "131224  Отличный телефон в плане пользования и связи!!...       5      1\n",
       "\n",
       "[110100 rows x 3 columns]"
      ]
     },
     "execution_count": 44,
     "metadata": {},
     "output_type": "execute_result"
    }
   ],
   "source": [
    "train"
   ]
  },
  {
   "cell_type": "code",
   "execution_count": 45,
   "metadata": {},
   "outputs": [],
   "source": [
    "# запишем 'train' в файл на будущее.\n",
    "# будем использовать колонки 'data' и 'label'\n",
    "train[['data','label']].to_csv('train.csv', index=False)"
   ]
  },
  {
   "cell_type": "code",
   "execution_count": 55,
   "metadata": {},
   "outputs": [
    {
     "name": "stdout",
     "output_type": "stream",
     "text": [
      "Количество отзывов в обучающей выборке: 110100\n",
      "Доля позитивных отзывов: 0.5\n",
      "Количесто отзывов в тестовой выборке: 100\n"
     ]
    }
   ],
   "source": [
    "train = pd.read_csv('train.csv')\n",
    "print(f'Количество отзывов в обучающей выборке: {len(train)}')\n",
    "portion_1 = sum(train.label) / len(train.label)\n",
    "print(f'Доля позитивных отзывов: {portion_1}')\n",
    "print(f'Количесто отзывов в тестовой выборке: {len(test)}')"
   ]
  },
  {
   "cell_type": "markdown",
   "metadata": {},
   "source": [
    "### Определим наиболее перспективную модель"
   ]
  },
  {
   "cell_type": "code",
   "execution_count": 48,
   "metadata": {},
   "outputs": [
    {
     "name": "stdout",
     "output_type": "stream",
     "text": [
      "Wall time: 2min 47s\n"
     ]
    },
    {
     "data": {
      "text/plain": [
       "{(CountVectorizer(),\n",
       "  LogisticRegression(solver='liblinear')): 0.8516893732970028,\n",
       " (CountVectorizer(), LinearSVC()): 0.8498546775658491,\n",
       " (TfidfVectorizer(),\n",
       "  LogisticRegression(solver='liblinear')): 0.8350499545867394,\n",
       " (TfidfVectorizer(), LinearSVC()): 0.8556039963669392}"
      ]
     },
     "execution_count": 48,
     "metadata": {},
     "output_type": "execute_result"
    }
   ],
   "source": [
    "%%time\n",
    "clf_accuracies = {}\n",
    "for vect in [CountVectorizer(), TfidfVectorizer()]:\n",
    "    for clf in [LogisticRegression(solver='liblinear'), LinearSVC()]:\n",
    "        pipe = Pipeline([(\"vect\", vect), (\"clf\", clf)])\n",
    "        clf_accuracies[(vect,clf)] = cross_val_score(pipe, train.data, train.label, n_jobs=-1).mean()\n",
    "        \n",
    "clf_accuracies"
   ]
  },
  {
   "cell_type": "markdown",
   "metadata": {},
   "source": [
    "### Лучшее качество показало сочетание TfidfVectorizer и LinearSVC, подберем для данной модели параметры"
   ]
  },
  {
   "cell_type": "code",
   "execution_count": 49,
   "metadata": {},
   "outputs": [],
   "source": [
    "# Создадим Pipeline будем использовать TfidfVectorizer и LinearSVC\n",
    "pipe = Pipeline([('vect', TfidfVectorizer()), \n",
    "                 ('clf', LinearSVC())])\n",
    "\n",
    "# Для подбора параметров используем GridSearchCV\n",
    "parameters = {\n",
    "    'vect__ngram_range': ((1, 1), (1, 2), (1, 3)),                      # униграмы, биграмы или триграмы\n",
    "    'clf__C': (1, 10, 100),                                             # параметр регуляризации\n",
    "    'clf__max_iter': (10, 25, 50)                                       # максимальное количество итераций\n",
    "}\n",
    "\n",
    "model = GridSearchCV(pipe, parameters, n_jobs=-1)"
   ]
  },
  {
   "cell_type": "code",
   "execution_count": 50,
   "metadata": {},
   "outputs": [
    {
     "name": "stdout",
     "output_type": "stream",
     "text": [
      "Точность лучшей модели: 0.898\n",
      "Wall time: 21min 48s\n"
     ]
    }
   ],
   "source": [
    "%%time\n",
    "# поиск наилучших параметров для модели\n",
    "model.fit(train.data, train.label)\n",
    "# точность модели с наилучшими параметрами\n",
    "print(f'Точность лучшей модели: {model.best_score_:.3f}')"
   ]
  },
  {
   "cell_type": "code",
   "execution_count": 51,
   "metadata": {},
   "outputs": [
    {
     "data": {
      "text/plain": [
       "Pipeline(steps=[('vect', TfidfVectorizer(ngram_range=(1, 3))),\n",
       "                ('clf', LinearSVC(C=1, max_iter=10))])"
      ]
     },
     "execution_count": 51,
     "metadata": {},
     "output_type": "execute_result"
    }
   ],
   "source": [
    "# выбранные для модели параметры\n",
    "model.best_estimator_"
   ]
  },
  {
   "cell_type": "code",
   "execution_count": 52,
   "metadata": {},
   "outputs": [
    {
     "name": "stdout",
     "output_type": "stream",
     "text": [
      "Wall time: 49.2 s\n"
     ]
    }
   ],
   "source": [
    "%%time\n",
    "pipe_final = Pipeline([('vect', TfidfVectorizer(ngram_range=(1, 3))),\n",
    "                       ('clf', LinearSVC(C=1, max_iter=10))])\n",
    "\n",
    "pipe_final.fit(train.data, train.label)\n",
    "\n",
    "# используем полученную модель для предсказания\n",
    "test['prediction'] = pipe_final.predict(test.data)"
   ]
  },
  {
   "cell_type": "code",
   "execution_count": 53,
   "metadata": {},
   "outputs": [
    {
     "data": {
      "text/html": [
       "<div>\n",
       "<style scoped>\n",
       "    .dataframe tbody tr th:only-of-type {\n",
       "        vertical-align: middle;\n",
       "    }\n",
       "\n",
       "    .dataframe tbody tr th {\n",
       "        vertical-align: top;\n",
       "    }\n",
       "\n",
       "    .dataframe thead th {\n",
       "        text-align: right;\n",
       "    }\n",
       "</style>\n",
       "<table border=\"1\" class=\"dataframe\">\n",
       "  <thead>\n",
       "    <tr style=\"text-align: right;\">\n",
       "      <th></th>\n",
       "      <th>data</th>\n",
       "      <th>prediction</th>\n",
       "      <th>Id</th>\n",
       "      <th>y</th>\n",
       "    </tr>\n",
       "  </thead>\n",
       "  <tbody>\n",
       "    <tr>\n",
       "      <th>0</th>\n",
       "      <td>Ужасно слабый аккумулятор, это основной минус ...</td>\n",
       "      <td>0</td>\n",
       "      <td>0</td>\n",
       "      <td>neg</td>\n",
       "    </tr>\n",
       "    <tr>\n",
       "      <th>1</th>\n",
       "      <td>ценанадежность-неубиваемостьдолго держит батар...</td>\n",
       "      <td>1</td>\n",
       "      <td>1</td>\n",
       "      <td>pos</td>\n",
       "    </tr>\n",
       "    <tr>\n",
       "      <th>2</th>\n",
       "      <td>подробнее в комментариях К сожалению, факт пол...</td>\n",
       "      <td>0</td>\n",
       "      <td>2</td>\n",
       "      <td>neg</td>\n",
       "    </tr>\n",
       "    <tr>\n",
       "      <th>3</th>\n",
       "      <td>я любительница громкой музыки. Тише телефона у...</td>\n",
       "      <td>0</td>\n",
       "      <td>3</td>\n",
       "      <td>neg</td>\n",
       "    </tr>\n",
       "    <tr>\n",
       "      <th>4</th>\n",
       "      <td>Дата выпуска - 2011 г, емкость - 1430 mAh, тех...</td>\n",
       "      <td>1</td>\n",
       "      <td>4</td>\n",
       "      <td>pos</td>\n",
       "    </tr>\n",
       "    <tr>\n",
       "      <th>...</th>\n",
       "      <td>...</td>\n",
       "      <td>...</td>\n",
       "      <td>...</td>\n",
       "      <td>...</td>\n",
       "    </tr>\n",
       "    <tr>\n",
       "      <th>95</th>\n",
       "      <td>Нет передней камеры, внутренняя память очень м...</td>\n",
       "      <td>0</td>\n",
       "      <td>95</td>\n",
       "      <td>neg</td>\n",
       "    </tr>\n",
       "    <tr>\n",
       "      <th>96</th>\n",
       "      <td>Звук при прослушивание музыки хороший,не глючи...</td>\n",
       "      <td>1</td>\n",
       "      <td>96</td>\n",
       "      <td>pos</td>\n",
       "    </tr>\n",
       "    <tr>\n",
       "      <th>97</th>\n",
       "      <td>Очень маленькая память забита вшитыми и соверш...</td>\n",
       "      <td>0</td>\n",
       "      <td>97</td>\n",
       "      <td>neg</td>\n",
       "    </tr>\n",
       "    <tr>\n",
       "      <th>98</th>\n",
       "      <td>Удобный корпус,стандартное меню нокиа,камера д...</td>\n",
       "      <td>1</td>\n",
       "      <td>98</td>\n",
       "      <td>pos</td>\n",
       "    </tr>\n",
       "    <tr>\n",
       "      <th>99</th>\n",
       "      <td>ПО, камера, отсутствие выбора приложение, нево...</td>\n",
       "      <td>0</td>\n",
       "      <td>99</td>\n",
       "      <td>neg</td>\n",
       "    </tr>\n",
       "  </tbody>\n",
       "</table>\n",
       "<p>100 rows × 4 columns</p>\n",
       "</div>"
      ],
      "text/plain": [
       "                                                 data  prediction  Id    y\n",
       "0   Ужасно слабый аккумулятор, это основной минус ...           0   0  neg\n",
       "1   ценанадежность-неубиваемостьдолго держит батар...           1   1  pos\n",
       "2   подробнее в комментариях К сожалению, факт пол...           0   2  neg\n",
       "3   я любительница громкой музыки. Тише телефона у...           0   3  neg\n",
       "4   Дата выпуска - 2011 г, емкость - 1430 mAh, тех...           1   4  pos\n",
       "..                                                ...         ...  ..  ...\n",
       "95  Нет передней камеры, внутренняя память очень м...           0  95  neg\n",
       "96  Звук при прослушивание музыки хороший,не глючи...           1  96  pos\n",
       "97  Очень маленькая память забита вшитыми и соверш...           0  97  neg\n",
       "98  Удобный корпус,стандартное меню нокиа,камера д...           1  98  pos\n",
       "99  ПО, камера, отсутствие выбора приложение, нево...           0  99  neg\n",
       "\n",
       "[100 rows x 4 columns]"
      ]
     },
     "execution_count": 53,
     "metadata": {},
     "output_type": "execute_result"
    }
   ],
   "source": [
    "test['Id'] = test.index\n",
    "# преобразуем единицы и нули в значения 'pos' и 'neg' необходимые для финального решения\n",
    "test['y'] = np.where(test['prediction']==0, 'neg', 'pos')\n",
    "test"
   ]
  },
  {
   "cell_type": "code",
   "execution_count": 54,
   "metadata": {},
   "outputs": [],
   "source": [
    "# Запишем в файл решение для загрузки на Kaggle\n",
    "test[['Id','y']].to_csv('FINAL_submission.csv', index=False)"
   ]
  },
  {
   "cell_type": "code",
   "execution_count": null,
   "metadata": {},
   "outputs": [],
   "source": []
  }
 ],
 "metadata": {
  "kernelspec": {
   "display_name": "Python 3",
   "language": "python",
   "name": "python3"
  },
  "language_info": {
   "codemirror_mode": {
    "name": "ipython",
    "version": 3
   },
   "file_extension": ".py",
   "mimetype": "text/x-python",
   "name": "python",
   "nbconvert_exporter": "python",
   "pygments_lexer": "ipython3",
   "version": "3.8.8"
  }
 },
 "nbformat": 4,
 "nbformat_minor": 4
}
